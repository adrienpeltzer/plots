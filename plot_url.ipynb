{
 "cells": [
  {
   "cell_type": "code",
   "execution_count": 8,
   "metadata": {
    "collapsed": true
   },
   "outputs": [],
   "source": [
    "import requests\n",
    "import numpy as np\n",
    "import matplotlib.pyplot as plt\n",
    "from bs4 import BeautifulSoup\n",
    "import re\n",
    "%matplotlib inline"
   ]
  },
  {
   "cell_type": "code",
   "execution_count": 2,
   "metadata": {
    "collapsed": true
   },
   "outputs": [],
   "source": [
    "# I will be plotting the graph of the recent Warriors Thunder Game 3.\n",
    "url='http://www.basketball-reference.com/boxscores/pbp/201605220OKC.html'\n",
    "r=requests.get(url)\n",
    "soup=BeautifulSoup(r.content,\"html.parser\")\n",
    "title=soup.find(\"h1\").text\n",
    "date_of_game=url[-13:-11]+'/'+url[-11:-9]+'/'+url[-15:-13]\n",
    "title=title[:title.index(' Play')]\n",
    "data_list = []\n",
    "for l in soup.find_all(\"tr\"):\n",
    "    if len(l.find_all(\"td\"))==6:\n",
    "        for i in l.find_all(\"td\"):\n",
    "            data_list.append(i.text)\n",
    "\n",
    "data_list=data_list[12:]"
   ]
  },
  {
   "cell_type": "code",
   "execution_count": 3,
   "metadata": {
    "collapsed": true
   },
   "outputs": [],
   "source": [
    "# Data Wrangling\n",
    "outfile = open(\"Temp_file.txt\",\"w\")\n",
    "for i in range(0,len(data_list),6):\n",
    "\tj=i\n",
    "\twhile j < i+5:\n",
    "\t\toutfile.write(data_list[j].encode('utf-8')+'\\t')\n",
    "\t\tj+=1\n",
    "\toutfile.write(data_list[j].encode('utf-8')+'\\n')\n",
    "\n",
    "outfile.close()\n",
    "\n",
    "fhand = open(\"Temp_file.txt\")\n",
    "fh=fhand.read()\n",
    "Time = []\n",
    "Hm_Pts=[]\n",
    "Aw_Pts=[]"
   ]
  },
  {
   "cell_type": "code",
   "execution_count": 4,
   "metadata": {
    "collapsed": true
   },
   "outputs": [],
   "source": [
    "#More Wrangling..\n",
    "fh =re.sub('\\xa0',' ',fh)\n",
    "fh =re.sub('\\xc2',' ',fh)\n",
    "fh=re.sub(r'\\t(\\d+)-(\\d+)\\t',r'\\t\\1\\t\\2\\t',fh)\n",
    "list=fh.split('\\n')\n",
    "for i,line in enumerate(list):\n",
    "    list[i]=line.split('\\t')\n",
    "list=list[:-1]\n",
    "file_array = np.array(list)\n",
    "Aw_Pts=file_array.T[3].astype(int)\n",
    "Hm_Pts=file_array.T[4].astype(int)\n",
    "\n",
    "Time=file_array.T[0]\n",
    "New_T=[]\n",
    "for i in Time:\n",
    "\tNew_T.append(i)\n",
    "Q=[]\n",
    "for i,l in enumerate(New_T):\n",
    "\tif re.match('\\d\\d:\\d\\d.\\d',l):\n",
    "\t\tcontinue\n",
    "\telse:\n",
    "\t\tNew_T[i]='0'+l\n",
    "j=0\n",
    "for i,l in enumerate(New_T):\n",
    "\tif int(l[:2])<=int(New_T[i-1][:2]):\n",
    "\t\tQ.append(j)\n",
    "\t\tcontinue\n",
    "\telse:\n",
    "\t\tQ.append(j+1)\n",
    "\t\tj+=1\n",
    "\t\tcontinue\n",
    "\n",
    "Quarter=np.array(Q)\n",
    "\n"
   ]
  },
  {
   "cell_type": "code",
   "execution_count": 5,
   "metadata": {
    "collapsed": true
   },
   "outputs": [],
   "source": [
    "# functions\n",
    "def new_time(T,Q):\n",
    "    #makes an array with the new time\n",
    "    time_elapsed=[]\n",
    "    for i in range(len(T)):\n",
    "        min = int(T[i][:2])\n",
    "        sec = int(T[i][3:5])\n",
    "        if Q[i]<5:\n",
    "            min_elapsed = 11-min\n",
    "            frac_min=round(float(60-sec)/60,4)\n",
    "            t=12*(Q[i]-1)+min_elapsed+frac_min\n",
    "            time_elapsed.append(t)\n",
    "        else:\n",
    "            min_elapsed=4-min\n",
    "            frac_min=round(float(60-sec)/60,4)\n",
    "            t=48+5*(Q[i]-5)+min_elapsed+frac_min\n",
    "            time_elapsed.append(t)\n",
    "    return time_elapsed\n",
    "\n",
    "Time=new_time(New_T,Q)\n"
   ]
  },
  {
   "cell_type": "code",
   "execution_count": 6,
   "metadata": {
    "collapsed": true
   },
   "outputs": [],
   "source": [
    "# Plot game function\n",
    "def plot_game():\n",
    "    y1=Hm_Pts\n",
    "    y2=Aw_Pts\n",
    "    xmin=Time\n",
    "    xmax=np.pad(xmin,((0,1)),mode='constant')[1:]\n",
    "    xmax[-1]=Time[-1]\n",
    "    ax=plt.gca()\n",
    "    #ax.set_axis_bgcolor('black')\n",
    "    #ax.set_axis_bgcolor((1, 0, 0))\n",
    "    #plt.figure(facecolor='black')\n",
    "    plt.hlines(y1,xmin,xmax,colors='r',label='Home')\n",
    "    plt.hlines(y2,xmin,xmax,colors='g',label='Away')\n",
    "    plt.xlabel('Minutes Elapsed')\n",
    "    plt.ylabel('Points Scored')\n",
    "    plt.axis([0,48,0,140])\n",
    "    plt.xticks(range(0,60,12))\n",
    "    plt.yticks(range(0,150,10))\n",
    "    plt.legend(loc=2)\n",
    "    plt.title(title+', '+date_of_game)\n",
    "    plt.show()\n",
    "\n"
   ]
  },
  {
   "cell_type": "code",
   "execution_count": 9,
   "metadata": {
    "collapsed": false
   },
   "outputs": [
    {
     "data": {
      "image/png": "[encoded data removed]",
      "text/plain": [
       "<matplotlib.figure.Figure at 0x10b2a1950>"
      ]
     },
     "metadata": {},
     "output_type": "display_data"
    }
   ],
   "source": [
    "plot_game()"
   ]
  },
  {
   "cell_type": "code",
   "execution_count": null,
   "metadata": {
    "collapsed": true
   },
   "outputs": [],
   "source": []
  }
 ],
 "metadata": {
  "kernelspec": {
   "display_name": "Python 2",
   "language": "python",
   "name": "python2"
  },
  "language_info": {
   "codemirror_mode": {
    "name": "ipython",
    "version": 2
   },
   "file_extension": ".py",
   "mimetype": "text/x-python",
   "name": "python",
   "nbconvert_exporter": "python",
   "pygments_lexer": "ipython2",
   "version": "2.7.11"
  }
 },
 "nbformat": 4,
 "nbformat_minor": 0
}
